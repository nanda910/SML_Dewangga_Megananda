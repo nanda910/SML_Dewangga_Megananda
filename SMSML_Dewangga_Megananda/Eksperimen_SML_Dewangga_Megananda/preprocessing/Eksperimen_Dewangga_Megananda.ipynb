{
 "cells": [
  {
   "cell_type": "markdown",
   "metadata": {},
   "source": [
    "# Eksperimen Preprocessing - Dewangga Megananda\n",
    "\n",
    "Proyek Akhir Machine Learning Dicoding - Skilled Level\n",
    "\n",
    "Notebook ini berisi:\n",
    "- Exploratory Data Analysis (EDA)\n",
    "- Data Preprocessing\n",
    "- Data Splitting"
   ]
  },
  {
   "cell_type": "code",
   "execution_count": null,
   "metadata": {},
   "outputs": [],
   "source": [
    "# Import libraries\n",
    "import pandas as pd\n",
    "import numpy as np\n",
    "import matplotlib.pyplot as plt\n",
    "import seaborn as sns\n",
    "from sklearn.model_selection import train_test_split\n",
    "from sklearn.preprocessing import StandardScaler, LabelEncoder\n",
    "from sklearn.impute import SimpleImputer\n",
    "import warnings\n",
    "warnings.filterwarnings('ignore')\n",
    "\n",
    "# Set style untuk visualisasi\n",
    "plt.style.use('seaborn-v0_8')\n",
    "sns.set_palette('husl')"
   ]
  },
  {
   "cell_type": "markdown",
   "metadata": {},
   "source": [
    "## 1. Load Dataset\n",
    "\n",
    "Load dataset yang akan digunakan untuk eksperimen. Untuk demo ini menggunakan Iris dataset,\n",
    "tapi bisa diganti dengan dataset sesuai kebutuhan proyek."
   ]
  },
  {
   "cell_type": "code",
   "execution_count": null,
   "metadata": {},
   "outputs": [],
   "source": [
    "# Load dataset (contoh menggunakan Iris)\n",
    "from sklearn.datasets import load_iris\n",
    "iris = load_iris()\n",
    "df = pd.DataFrame(data=iris.data, columns=iris.feature_names)\n",
    "df['target'] = iris.target\n",
    "df['target_name'] = df['target'].map({i: name for i, name in enumerate(iris.target_names)})\n",
    "\n",
    "print(\"Dataset shape:\", df.shape)\n",
    "print(\"\\nFirst 5 rows:\")\n",
    "df.head()"
   ]
  },
  {
   "cell_type": "markdown",
   "metadata": {},
   "source": [
    "## 2. Exploratory Data Analysis (EDA)"
   ]
  },
  {
   "cell_type": "code",
   "execution_count": null,
   "metadata": {},
   "outputs": [],
   "source": [
    "# Informasi dataset\n",
    "print(\"Dataset Info:\")\n",
    "df.info()\n",
    "\n",
    "print(\"\\nStatistical Summary:\")\n",
    "df.describe()"
   ]
  },
  {
   "cell_type": "code",
   "execution_count": null,
   "metadata": {},
   "outputs": [],
   "source": [
    "# Check missing values\n",
    "print(\"Missing Values:\")\n",
    "missing_values = df.isnull().sum()\n",
    "print(missing_values)\n",
    "\n",
    "# Visualisasi missing values\n",
    "plt.figure(figsize=(10, 6))\n",
    "sns.heatmap(df.isnull(), cbar=False, cmap='viridis')\n",
    "plt.title('Missing Values Heatmap')\n",
    "plt.show()"
   ]
  },
  {
   "cell_type": "code",
   "execution_count": null,
   "metadata": {},
   "outputs": [],
   "source": [
    "# Distribusi kelas target\n",
    "plt.figure(figsize=(8, 6))\n",
    "sns.countplot(data=df, x='target_name')\n",
    "plt.title('Distribution of Target Classes')\n",
    "plt.xlabel('Species')\n",
    "plt.ylabel('Count')\n",
    "plt.show()\n",
    "\n",
    "print(\"Class distribution:\")\n",
    "print(df['target_name'].value_counts())"
   ]
  },
  {
   "cell_type": "code",
   "execution_count": null,
   "metadata": {},
   "outputs": [],
   "source": [
    "# Visualisasi distribusi fitur\n",
    "features = iris.feature_names\n",
    "fig, axes = plt.subplots(2, 2, figsize=(12, 10))\n",
    "axes = axes.ravel()\n",
    "\n",
    "for i, feature in enumerate(features):\n",
    "    sns.histplot(data=df, x=feature, hue='target_name', ax=axes[i], alpha=0.7)\n",
    "    axes[i].set_title(f'Distribution of {feature}')\n",
    "\n",
    "plt.tight_layout()\n",
    "plt.show()"
   ]
  },
  {
   "cell_type": "code",
   "execution_count": null,
   "metadata": {},
   "outputs": [],
   "source": [
    "# Correlation matrix\n",
    "plt.figure(figsize=(8, 6))\n",
    "correlation_matrix = df[features].corr()\n",
    "sns.heatmap(correlation_matrix, annot=True, cmap='coolwarm', center=0)\n",
    "plt.title('Feature Correlation Matrix')\n",
    "plt.show()"
   ]
  },
  {
   "cell_type": "markdown",
   "metadata": {},
   "source": [
    "## 3. Data Preprocessing"
   ]
  },
  {
   "cell_type": "code",
   "execution_count": null,
   "metadata": {},
   "outputs": [],
   "source": [
    "# Separate features and target\n",
    "X = df[features]\n",
    "y = df['target']\n",
    "\n",
    "print(\"Features shape:\", X.shape)\n",
    "print(\"Target shape:\", y.shape)"
   ]
  },
  {
   "cell_type": "code",
   "execution_count": null,
   "metadata": {},
   "outputs": [],
   "source": [
    "# Handle missing values (jika ada)\n",
    "# Untuk demo, kita akan mensimulasikan beberapa missing values\n",
    "np.random.seed(42)\n",
    "mask = np.random.random(X.shape) < 0.05  # 5% missing values\n",
    "X_missing = X.copy()\n",
    "X_missing[mask] = np.nan\n",
    "\n",
    "print(\"Missing values after simulation:\")\n",
    "print(X_missing.isnull().sum())\n",
    "\n",
    "# Impute missing values dengan mean\n",
    "imputer = SimpleImputer(strategy='mean')\n",
    "X_imputed = pd.DataFrame(imputer.fit_transform(X_missing), columns=features)\n",
    "print(\"\\nMissing values after imputation:\")\n",
    "print(X_imputed.isnull().sum())"
   ]
  },
  {
   "cell_type": "code",
   "execution_count": null,
   "metadata": {},
   "outputs": [],
   "source": [
    "# Feature scaling\n",
    "scaler = StandardScaler()\n",
    "X_scaled = pd.DataFrame(scaler.fit_transform(X_imputed), columns=features)\n",
    "\n",
    "print(\"Features after scaling (first 5 rows):\")\n",
    "X_scaled.head()"
   ]
  },
  {
   "cell_type": "markdown",
   "metadata": {},
   "source": [
    "## 4. Data Splitting"
   ]
  },
  {
   "cell_type": "code",
   "execution_count": null,
   "metadata": {},
   "outputs": [],
   "source": [
    "# Split data menjadi train dan test\n",
    "X_train, X_test, y_train, y_test = train_test_split(\n",
    "    X_scaled, y, test_size=0.2, random_state=42, stratify=y\n",
    ")\n",
    "\n",
    "print(\"Training set shape:\", X_train.shape, y_train.shape)\n",
    "print(\"Test set shape:\", X_test.shape, y_test.shape)\n",
    "print(\"\\nClass distribution in training set:\")\n",
    "print(pd.Series(y_train).value_counts())\n",
    "print(\"\\nClass distribution in test set:\")\n",
    "print(pd.Series(y_test).value_counts())"
   ]
  },
  {
   "cell_type": "markdown",
   "metadata": {},
   "source": [
    "## 5. Save Preprocessed Data"
   ]
  },
  {
   "cell_type": "code",
   "execution_count": null,
   "metadata": {},
   "outputs": [],
   "source": [
    "# Simpan data hasil preprocessing\n",
    "train_data = pd.concat([X_train, y_train], axis=1)\n",
    "test_data = pd.concat([X_test, y_test], axis=1)\n",
    "\n",
    "# Simpan ke folder dataset_preprocessing\n",
    "train_data.to_csv('dataset_preprocessing/train_data.csv', index=False)\n",
    "test_data.to_csv('dataset_preprocessing/test_data.csv', index=False)\n",
    "X_scaled.to_csv('dataset_preprocessing/X_scaled.csv', index=False)\n",
    "pd.Series(y).to_csv('dataset_preprocessing/y.csv', index=False)\n",
    "\n",
    "print(\"Preprocessed data saved to dataset_preprocessing/ folder\")\n",
    "print(\"Files saved:\")\n",
    "print(\"- train_data.csv\")\n",
    "print(\"- test_data.csv\")\n",
    "print(\"- X_scaled.csv\")\n",
    "print(\"- y.csv\")"
   ]
  },
  {
   "cell_type": "markdown",
   "metadata": {},
   "source": [
    "## Summary\n",
    "\n",
    "Dalam notebook ini telah dilakukan:\n",
    "\n",
    "1. **EDA**: Analisis distribusi data, missing values, dan korelasi fitur\n",
    "2. **Preprocessing**: \n",
    "   - Handling missing values dengan imputation\n",
    "   - Feature scaling menggunakan StandardScaler\n",
    "3. **Data Splitting**: Membagi data menjadi training dan testing set\n",
    "4. **Save Data**: Menyimpan hasil preprocessing ke folder dataset_preprocessing\n",
    "\n",
    "Data siap digunakan untuk modeling pada tahap berikutnya."
   ]
  }
 ],
 "metadata": {
  "kernelspec": {
   "display_name": "Python 3",
   "language": "python",
   "name": "python3"
  },
  "language_info": {
   "codemirror_mode": {
    "name": "python",
    "version": 3
   },
   "file_extension": ".py",
   "mimetype": "text/x-python",
   "name": "python",
   "nbconvert_exporter": "python",
   "pygments_lexer": "ipython3",
   "version": "3.8.5"
  }
 },
 "nbformat": 4,
 "nbformat_minor": 4
}